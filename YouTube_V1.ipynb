{
 "cells": [
  {
   "cell_type": "code",
   "execution_count": 1,
   "id": "d3f3c082",
   "metadata": {},
   "outputs": [],
   "source": [
    "import nest_asyncio\n",
    "nest_asyncio.apply()\n",
    "import pandas as pd\n",
    "from scapy.all import *\n",
    "import glob\n",
    "import numpy as np\n",
    "# You can delete this later, I put, I dont like Warnings\n",
    "import warnings\n",
    "warnings.filterwarnings('ignore')"
   ]
  },
  {
   "cell_type": "code",
   "execution_count": 2,
   "id": "2cfa6af9",
   "metadata": {},
   "outputs": [],
   "source": [
    "import os"
   ]
  },
  {
   "cell_type": "code",
   "execution_count": 3,
   "id": "37592775",
   "metadata": {},
   "outputs": [],
   "source": [
    "#imported to match IP\n",
    "import re"
   ]
  },
  {
   "cell_type": "code",
   "execution_count": 4,
   "id": "8d291674",
   "metadata": {},
   "outputs": [],
   "source": [
    "pcap =rdpcap(\"31_May.pcap\")"
   ]
  },
  {
   "cell_type": "code",
   "execution_count": 5,
   "id": "0cd51934",
   "metadata": {},
   "outputs": [],
   "source": [
    "# pcap[0].show()\n",
    "# pcap[0].src\n",
    "# pcap[0].dst\n",
    "# pcap[0].time\n",
    "# pcap[0].summary()"
   ]
  },
  {
   "cell_type": "code",
   "execution_count": 6,
   "id": "c7f7ef81",
   "metadata": {},
   "outputs": [],
   "source": [
    "df= pd.DataFrame(columns=['Time',\n",
    "                          'TP',\n",
    "                          'Total_Bits',\n",
    "                          'Total_Packets',\n",
    "                          'Packet_Sizes',\n",
    "                          'Packet_Times',\n",
    "                          'IPGs'])\n",
    "current_time=0; # Current Time\n",
    "ipg=0; # IPG\n",
    "window_size=1\n",
    "first_pk=0\n",
    "for i in np.arange(0, 350, window_size):\n",
    "    ttl_bits=0 # Total Bits\n",
    "    ttl_pk=0 # Total Packets\n",
    "    pk_size=[] # Packet Size\n",
    "    pk_time=[] # Packet Time\n",
    "    ipg_array=[] # IPG Times\n",
    "    \n",
    "    for p in pcap:\n",
    "        if ((p.haslayer(UDP)) and (p.haslayer(IP))) and ((float(p.time-pcap[0].time))>= i) and  ((float(p.time-pcap[0].time))< i+window_size):\n",
    "            if(re.match('142', p.src)): #in other words it is source. if(p[IP].src== '142.*.*.*'): # Downlink\n",
    "                #print(int(len(p[IP])))\n",
    "                ttl_bits=ttl_bits+(int(len(p[IP]))*8) # This converts to bits\n",
    "                ttl_pk=ttl_pk+1 # This total packets\n",
    "                pk_size.append(int(len(p[IP]))) # This save sizes in an array\n",
    "                pk_time.append(float(p.time)) # This save times in an array\n",
    "                ipg=float(p.time-current_time)\n",
    "                if(first_pk==0):\n",
    "                    ipg_array.append(0)\n",
    "                else:\n",
    "                    ipg_array.append(ipg)\n",
    "                current_time=p.time\n",
    "                first_pk=first_pk+1;      \n",
    "                # Here If Done\n",
    "            #Outer If\n",
    "    #For of packets\n",
    "    TP=ttl_bits/window_size\n",
    "    \n",
    "    #print(ttl_pk)\n",
    "    df = df.append(pd.Series([i,\n",
    "                                  TP,\n",
    "                                  ttl_bits,\n",
    "                                  ttl_pk,\n",
    "                                  pk_size,\n",
    "                                  pk_time,\n",
    "                                  ipg_array], index=df.columns ), ignore_index=True)\n",
    "    df.to_csv ('31_qos.csv', index = None, header=True)            \n",
    "        "
   ]
  },
  {
   "cell_type": "code",
   "execution_count": null,
   "id": "c9dd7ac0",
   "metadata": {},
   "outputs": [],
   "source": []
  }
 ],
 "metadata": {
  "kernelspec": {
   "display_name": "Python 3 (ipykernel)",
   "language": "python",
   "name": "python3"
  },
  "language_info": {
   "codemirror_mode": {
    "name": "ipython",
    "version": 3
   },
   "file_extension": ".py",
   "mimetype": "text/x-python",
   "name": "python",
   "nbconvert_exporter": "python",
   "pygments_lexer": "ipython3",
   "version": "3.9.12"
  }
 },
 "nbformat": 4,
 "nbformat_minor": 5
}
